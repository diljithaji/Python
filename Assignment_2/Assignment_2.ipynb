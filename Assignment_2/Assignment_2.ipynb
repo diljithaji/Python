{
 "cells": [
  {
   "cell_type": "markdown",
   "id": "791836e8",
   "metadata": {},
   "source": [
    "Q1) Write a program to check whether a given number is positive, negative, or zero."
   ]
  },
  {
   "cell_type": "code",
   "execution_count": 1,
   "id": "df0d1a61",
   "metadata": {},
   "outputs": [
    {
     "name": "stdout",
     "output_type": "stream",
     "text": [
      "Entered number is -9.0\n",
      "Number is Negative\n"
     ]
    }
   ],
   "source": [
    "num = float(input(\"Enter The Number: \")) #asking input from user and typecasting it into float\n",
    "\n",
    "print(f\"Entered number is {num}\") #displaying the entered number\n",
    "\n",
    "if(num<0): #checking if the number is less than zero\n",
    "    print(\"Number is Negative\")\n",
    "    \n",
    "elif(num>0): #if the above condition is not satisfies check for another condition if the number is greater than zero\n",
    "    print(\"Number is Positive\")\n",
    "    \n",
    "else: #since number is neither negative nor positive then it must be zero itself\n",
    "    print(\"Number is Zero\")\n"
   ]
  },
  {
   "cell_type": "markdown",
   "id": "5ed0e0c9",
   "metadata": {},
   "source": [
    "Q2) Write a program to check whether a given integer is even or odd."
   ]
  },
  {
   "cell_type": "code",
   "execution_count": 4,
   "id": "a3d1c5d9",
   "metadata": {},
   "outputs": [
    {
     "name": "stdout",
     "output_type": "stream",
     "text": [
      "The entered number is 9.\n",
      "The number is Odd.\n"
     ]
    }
   ],
   "source": [
    "\n",
    "num=int(input(\"Enter an integer: \")) #take input from the user and typecast the input to int.\n",
    "print(f\"The entered number is {num}.\") #printing the user input\n",
    "#if a number gives 0 as remainder when divided with 2 then it is even if it gives 1 then it is odd\n",
    "if num % 2 == 0: #use the modulus operator that gives the remainder\n",
    "    print(\"The number is Even.\")\n",
    "else:\n",
    "    print(\"The number is Odd.\")"
   ]
  },
  {
   "cell_type": "markdown",
   "id": "686849af",
   "metadata": {},
   "source": [
    "Q3) Write a program to input two numbers and print which one is larger."
   ]
  },
  {
   "cell_type": "code",
   "execution_count": 6,
   "id": "71eeb01a",
   "metadata": {},
   "outputs": [
    {
     "name": "stdout",
     "output_type": "stream",
     "text": [
      "The entered numbers are 5.0 and 9.0.\n",
      "The 2nd number is larger: 9.0\n"
     ]
    }
   ],
   "source": [
    "#taking input from the user and typecasting it to float\n",
    "n1=float(input(\"Enter the 1st number: \"))\n",
    "n2=float(input(\"Enter the 2nd number: \"))\n",
    "print(f\"The entered numbers are {n1} and {n2}.\") #printing the numbers entered by the user\n",
    "#comparing 2 numbers using if-elif-else. \n",
    "if n1>n2: #checking if n1 is greater\n",
    "    print(f\"The 1st number is larger: {n1}\")\n",
    "elif n2>n1: #checking if n2 is greater\n",
    "    print(f\"The 2nd number is larger: {n2}\",)\n",
    "else: #else they are both the same numbers\n",
    "    print(\"Both numbers are equal.\")"
   ]
  },
  {
   "cell_type": "markdown",
   "id": "01cf869f",
   "metadata": {},
   "source": [
    "Q4) Write a program to find the absolute value of a given number without using the abs() function"
   ]
  },
  {
   "cell_type": "code",
   "execution_count": 9,
   "id": "3e2f6ac1",
   "metadata": {},
   "outputs": [
    {
     "name": "stdout",
     "output_type": "stream",
     "text": [
      "Entered number: -69.0\n",
      "Absolute value: 69.0\n"
     ]
    }
   ],
   "source": [
    "\n",
    "num = float(input(\"Enter a number: \")) #taking input from the user\n",
    "print(f\"Entered number: {num}\") #printing the number entered by the user\n",
    "\n",
    "if num < 0: #check if the number is less than zero\n",
    "    ab=num*-1 #if negative then, remove the sign by multiplying it with -1\n",
    "else:\n",
    "    ab=num #if it is already positive then print the same number\n",
    "\n",
    "print(\"Absolute value:\", ab) #printing the absolute value\n"
   ]
  },
  {
   "cell_type": "markdown",
   "id": "4f50ac03",
   "metadata": {},
   "source": [
    "Q5} Write a program to check whether a person is eligible to vote or not. (A person is eligible if their age is 18 or above)."
   ]
  },
  {
   "cell_type": "code",
   "execution_count": 10,
   "id": "9447b04e",
   "metadata": {},
   "outputs": [
    {
     "name": "stdout",
     "output_type": "stream",
     "text": [
      "Your age is 55.\n",
      "You are eligible to vote.\n"
     ]
    }
   ],
   "source": [
    "age=int(input(\"Enter your age: \")) #taling input from the user and typecasting it to int.\n",
    "print(f\"Your age is {age}.\") #printing the user age\n",
    "if age>=18: #checking wheather the entered age is above or equal to 18.\n",
    "    print(\"You are eligible to vote.\")\n",
    "else: #if below 18 then not eligible\n",
    "    print(\"You are NOT eligible to vote.\")\n"
   ]
  },
  {
   "cell_type": "markdown",
   "id": "7cbf0e94",
   "metadata": {},
   "source": [
    "Q6) Write a program to check whether a given year is a leap year or not. (Hint: A leap year is divisible by 4, but not by 100 unless also divisible by 400)."
   ]
  },
  {
   "cell_type": "code",
   "execution_count": 11,
   "id": "86fd3171",
   "metadata": {},
   "outputs": [
    {
     "name": "stdout",
     "output_type": "stream",
     "text": [
      "Entered year:  1989\n",
      "1989 is NOT a Leap Year.\n"
     ]
    }
   ],
   "source": [
    "y=int(input(\"Enter a year: \")) #taking input from user and typecasting it to int.\n",
    "print(\"Entered year: \",y)\n",
    "if (y%400==0) or (y%4==0 and y%100!=0): #A leap year is divisible by 4, but not by 100 unless also divisible by 400) implementingg using AND and OR\n",
    "    print(y, \"is a Leap Year.\")\n",
    "else:\n",
    "    print(y, \"is NOT a Leap Year.\")\n"
   ]
  },
  {
   "cell_type": "markdown",
   "id": "12c531a0",
   "metadata": {},
   "source": [
    "Q7) Write a program that takes marks as input and prints:\n",
    "- 'Pass' if marks are 40 or above\n",
    "- 'Fail' if marks are less than 40"
   ]
  },
  {
   "cell_type": "code",
   "execution_count": 1,
   "id": "cab03864",
   "metadata": {},
   "outputs": [
    {
     "name": "stdout",
     "output_type": "stream",
     "text": [
      "Entered marks: 45\n",
      "Pass\n"
     ]
    }
   ],
   "source": [
    "\n",
    "marks=int(input(\"Enter your marks: \")) #take input from user and typecast it into int\n",
    "print(\"Entered marks:\",marks)\n",
    "\n",
    "if marks >= 40: #checking pass condition\n",
    "    print(\"Pass\")\n",
    "else: ##else failes\n",
    "    print(\"Fail\")\n"
   ]
  },
  {
   "cell_type": "markdown",
   "id": "16dc5b97",
   "metadata": {},
   "source": [
    "Q8) Write a program to check whether a given number is a multiple of 5."
   ]
  },
  {
   "cell_type": "code",
   "execution_count": 4,
   "id": "3bd61421",
   "metadata": {},
   "outputs": [
    {
     "name": "stdout",
     "output_type": "stream",
     "text": [
      "22 is the entered value.\n",
      "22 is NOT a multiple of 5.\n"
     ]
    }
   ],
   "source": [
    "\n",
    "n=int(input(\"Enter a number: \")) #take input from user and typecast it into int.\n",
    "print(n,\"is the entered value.\")\n",
    "#% modulus operator is used \n",
    "#if the remiander is 0 then it is a multiple of 5 otherwise not multiple of 5.\n",
    "if n%5==0:\n",
    "    print(n, \"is a multiple of 5.\")\n",
    "else:\n",
    "    print(n, \"is NOT a multiple of 5.\")\n"
   ]
  },
  {
   "cell_type": "markdown",
   "id": "6c6693d5",
   "metadata": {},
   "source": [
    "Q9) Write a program to input a character and check whether it is an uppercase letter, lowercase letter, or not a letter."
   ]
  },
  {
   "cell_type": "code",
   "execution_count": 6,
   "id": "cb2f6f56",
   "metadata": {},
   "outputs": [
    {
     "name": "stdout",
     "output_type": "stream",
     "text": [
      "l is the entered character\n",
      "l is a Lowercase letter.\n"
     ]
    }
   ],
   "source": [
    "\n",
    "ch = input(\"Enter a character: \") #taking input from the user\n",
    "print(ch,\"is the entered character\")\n",
    "if ch.isupper():   #checks if uppercase (A-Z)\n",
    "    print(ch, \"is an Uppercase letter.\")\n",
    "elif ch.islower(): # checks if lowercase (a-z)\n",
    "    print(ch, \"is a Lowercase letter.\")\n",
    "else: #neither uppercase nor lowercase then not a letter\n",
    "    print(ch, \"is NOT a letter.\")\n"
   ]
  },
  {
   "cell_type": "markdown",
   "id": "08c8e608",
   "metadata": {},
   "source": [
    "\n",
    "Q10) Write a program that calculates the discount:\n",
    "\n",
    "- If purchase amount is greater than or equal to 1000, apply a 10% discount.\n",
    "- Otherwise, no discount.\n",
    "Finally, print the final bill amount."
   ]
  },
  {
   "cell_type": "code",
   "execution_count": 8,
   "id": "acfa01ac",
   "metadata": {},
   "outputs": [
    {
     "name": "stdout",
     "output_type": "stream",
     "text": [
      "Purchase amount: 1300.0\n",
      "Discount applied --> 10%\n",
      "Final bill amount: 1170.0\n"
     ]
    }
   ],
   "source": [
    "a=float(input(\"Enter the purchase amount: \")) #takin input from user and typecast it into float\n",
    "print(f\"Purchase amount: {a}\")\n",
    "if a>=1000: #checking if discount needs to be applied or not\n",
    "    d=a*0.10   #appliying 10% of amount\n",
    "    f_a=a-d\n",
    "    print(\"Discount applied --> 10%\")\n",
    "else: #not considering for discount\n",
    "    discount = 0\n",
    "    f_a=a\n",
    "    print(\"No discount applied.\")\n",
    "\n",
    "print(\"Final bill amount:\", f_a) #printing the final bill\n"
   ]
  },
  {
   "cell_type": "code",
   "execution_count": null,
   "id": "954f1eb5",
   "metadata": {},
   "outputs": [],
   "source": []
  }
 ],
 "metadata": {
  "kernelspec": {
   "display_name": "Python 3",
   "language": "python",
   "name": "python3"
  },
  "language_info": {
   "codemirror_mode": {
    "name": "ipython",
    "version": 3
   },
   "file_extension": ".py",
   "mimetype": "text/x-python",
   "name": "python",
   "nbconvert_exporter": "python",
   "pygments_lexer": "ipython3",
   "version": "3.13.7"
  }
 },
 "nbformat": 4,
 "nbformat_minor": 5
}
