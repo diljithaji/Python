{
 "cells": [
  {
   "cell_type": "markdown",
   "id": "cff70e1f",
   "metadata": {},
   "source": [
    "1. Write a Python function find_smallest_multiple(n: int) that uses a while loop to find the smallest\n",
    "positive integer x such that x is divisible by all numbers from 1 to n.\n",
    "\n",
    "- Conditions:\n",
    "1. The function should keep incrementing x by 1 until it finds a number that satisfies the\n",
    "condition.\n",
    "2. Your solution should handle the edge case where n = 1 efficiently, returning 1 directly since 1\n",
    "is divisible by itself."
   ]
  },
  {
   "cell_type": "code",
   "execution_count": 1,
   "id": "06b16ef2",
   "metadata": {},
   "outputs": [
    {
     "name": "stdout",
     "output_type": "stream",
     "text": [
      "The smallest positive integer divisible by all numbers from 1 to 1 is: 1\n",
      "The smallest positive integer divisible by all numbers from 1 to 5 is: 60\n",
      "The smallest positive integer divisible by all numbers from 1 to 7 is: 420\n"
     ]
    }
   ],
   "source": [
    "def find_smallest_multiple(n: int) -> int:\n",
    "    \n",
    "    if n == 1:\n",
    "        return 1\n",
    "    \n",
    "    x = n\n",
    "    \n",
    "    while True:\n",
    "        is_divisible_by_all = True\n",
    "        \n",
    "        for i in range(1, n + 1):\n",
    "            if x % i != 0:\n",
    "                is_divisible_by_all = False\n",
    "                break \n",
    "        \n",
    "        if is_divisible_by_all:\n",
    "            return x\n",
    "        \n",
    "        x += 1\n",
    "\n",
    "print(f\"The smallest positive integer divisible by all numbers from 1 to 1 is: {find_smallest_multiple(1)}\")\n",
    "print(f\"The smallest positive integer divisible by all numbers from 1 to 5 is: {find_smallest_multiple(5)}\")\n",
    "print(f\"The smallest positive integer divisible by all numbers from 1 to 7 is: {find_smallest_multiple(7)}\")"
   ]
  },
  {
   "cell_type": "markdown",
   "id": "6dbe71b3",
   "metadata": {},
   "source": [
    "2. Write a function cubesum() that accepts an integer and returns the sum of the cubes of individual digits\n",
    "of that number. Use this function to make functions PrintArmstrong() and isArmstrong() to print\n",
    "Armstrong numbers and to find whether is an Armstrong number."
   ]
  },
  {
   "cell_type": "code",
   "execution_count": 2,
   "id": "af5f75d9",
   "metadata": {},
   "outputs": [
    {
     "name": "stdout",
     "output_type": "stream",
     "text": [
      "The cube sum of 153 is: 153\n",
      "Is 153 an Armstrong number? True\n",
      "Is 123 an Armstrong number? False\n",
      "Armstrong numbers (sum of cubes) up to 1000:\n",
      "1 153 370 371 407 \n"
     ]
    }
   ],
   "source": [
    "def cubesum(num: int) -> int:\n",
    "    total = 0\n",
    "    temp_num = num\n",
    "    while temp_num > 0:\n",
    "        digit = temp_num % 10\n",
    "        total += digit ** 3\n",
    "        temp_num //= 10\n",
    "    return total\n",
    "\n",
    "def isArmstrong(num: int) -> bool:\n",
    "    return num == cubesum(num)\n",
    "\n",
    "def PrintArmstrong(limit: int):\n",
    "    print(f\"Armstrong numbers (sum of cubes) up to {limit}:\")\n",
    "    for number in range(1, limit + 1):\n",
    "        if isArmstrong(number):\n",
    "            print(number, end=\" \")\n",
    "    print()\n",
    "\n",
    "print(f\"The cube sum of 153 is: {cubesum(153)}\")\n",
    "print(f\"Is 153 an Armstrong number? {isArmstrong(153)}\")\n",
    "print(f\"Is 123 an Armstrong number? {isArmstrong(123)}\")\n",
    "PrintArmstrong(1000)"
   ]
  },
  {
   "cell_type": "markdown",
   "id": "e08ea737",
   "metadata": {},
   "source": [
    "3. Why is operator precedence important? Give an example where neglecting precedence changes the\n",
    "result."
   ]
  },
  {
   "cell_type": "code",
   "execution_count": 3,
   "id": "814d2f69",
   "metadata": {},
   "outputs": [
    {
     "name": "stdout",
     "output_type": "stream",
     "text": [
      "With precedence (correct): 20\n"
     ]
    }
   ],
   "source": [
    "# * has higher precedence than +\n",
    "result_correct = 10 + 5 * 2\n",
    "\n",
    "# 1. 5 * 2 is calculated first = 10\n",
    "# 2. 10 + 10 is calculated next = 20\n",
    "print(f\"With precedence (correct): {result_correct}\")"
   ]
  },
  {
   "cell_type": "code",
   "execution_count": null,
   "id": "c0a054b8",
   "metadata": {},
   "outputs": [
    {
     "name": "stdout",
     "output_type": "stream",
     "text": [
      "Neglecting precedence (incorrect): 30\n"
     ]
    }
   ],
   "source": [
    "#use ( ) to force the addition to happen first\n",
    "result_incorrect = (10 + 5) * 2\n",
    "\n",
    "#1. (10 + 5) is calculated first = 15\n",
    "#2. 15 * 2 is calculated next = 30\n",
    "print(f\"Neglecting precedence (incorrect): {result_incorrect}\")"
   ]
  },
  {
   "cell_type": "markdown",
   "id": "bb7e15c6",
   "metadata": {},
   "source": [
    "4. Write a program to input a decimal number and print its equivalent binary, octal, and hexadecimal\n",
    "using operators."
   ]
  },
  {
   "cell_type": "code",
   "execution_count": 5,
   "id": "c36c88a4",
   "metadata": {},
   "outputs": [
    {
     "name": "stdout",
     "output_type": "stream",
     "text": [
      "The binary equivalent is: 0b110111\n",
      "The octal equivalent is: 0o67\n",
      "The hexadecimal equivalent is: 0x37\n"
     ]
    }
   ],
   "source": [
    "decimal_num = int(input(\"Enter a decimal number: \"))\n",
    "\n",
    "binary_val = bin(decimal_num)\n",
    "octal_val = oct(decimal_num)\n",
    "hexadecimal_val = hex(decimal_num)\n",
    "\n",
    "print(f\"The binary equivalent is: {binary_val}\")\n",
    "print(f\"The octal equivalent is: {octal_val}\")\n",
    "print(f\"The hexadecimal equivalent is: {hexadecimal_val}\")"
   ]
  },
  {
   "cell_type": "markdown",
   "id": "d20566cb",
   "metadata": {},
   "source": [
    "5. Write a Python function to create and print a list where the values are the squares of numbers between\n",
    "1 and 30 (both included)."
   ]
  },
  {
   "cell_type": "code",
   "execution_count": 6,
   "id": "3142c800",
   "metadata": {},
   "outputs": [
    {
     "name": "stdout",
     "output_type": "stream",
     "text": [
      "List of squares from 1 to 30:\n",
      "[1, 4, 9, 16, 25, 36, 49, 64, 81, 100, 121, 144, 169, 196, 225, 256, 289, 324, 361, 400, 441, 484, 529, 576, 625, 676, 729, 784, 841, 900]\n"
     ]
    }
   ],
   "source": [
    "def create_list_of_squares():\n",
    "    squares_list = []\n",
    "    for i in range(1, 31):\n",
    "        squares_list.append(i * i)\n",
    "    \n",
    "    print(\"List of squares from 1 to 30:\")\n",
    "    print(squares_list)\n",
    "\n",
    "create_list_of_squares()"
   ]
  },
  {
   "cell_type": "markdown",
   "id": "8598e8f4",
   "metadata": {},
   "source": [
    "6. Write a program that takes a sentence as input and counts the frequency of vowels, consonants, digits,\n",
    "and special characters separately"
   ]
  },
  {
   "cell_type": "code",
   "execution_count": 7,
   "id": "fa18773c",
   "metadata": {},
   "outputs": [
    {
     "name": "stdout",
     "output_type": "stream",
     "text": [
      "\n",
      "--- Character Frequency Report ---\n",
      "Vowels: 6\n",
      "Consonants: 11\n",
      "Digits: 0\n",
      "Special Characters: 0\n"
     ]
    }
   ],
   "source": [
    "sentence = input(\"Enter a sentence: \")\n",
    "\n",
    "vowels = 0\n",
    "consonants = 0\n",
    "digits = 0\n",
    "specials = 0\n",
    "\n",
    "vowel_chars = \"aeiouAEIOU\"\n",
    "\n",
    "for char in sentence:\n",
    "    if char in vowel_chars:\n",
    "        vowels += 1\n",
    "    elif 'a' <= char.lower() <= 'z':\n",
    "        consonants += 1\n",
    "    elif '0' <= char <= '9':\n",
    "        digits += 1\n",
    "    elif char != ' ' and char != '\\t' and char != '\\n':\n",
    "        specials += 1\n",
    "\n",
    "print(\"\\n--- Character Frequency Report ---\")\n",
    "print(f\"Vowels: {vowels}\")\n",
    "print(f\"Consonants: {consonants}\")\n",
    "print(f\"Digits: {digits}\")\n",
    "print(f\"Special Characters: {specials}\")"
   ]
  },
  {
   "cell_type": "markdown",
   "id": "72bdbf94",
   "metadata": {},
   "source": [
    "7. Write a Python program to create a dictionary of students’ names as keys and their marks as values.\n",
    "Then:\n",
    "- Print the student with the highest marks\n",
    "- Print the student with the lowest marks"
   ]
  },
  {
   "cell_type": "code",
   "execution_count": 8,
   "id": "cce5875c",
   "metadata": {},
   "outputs": [
    {
     "name": "stdout",
     "output_type": "stream",
     "text": [
      "--- Student Marks Report ---\n",
      "Student with the highest marks: Diana (98)\n",
      "Student with the lowest marks: Ethan (65)\n"
     ]
    }
   ],
   "source": [
    "student_marks = {\n",
    "    \"Alice\": 88,\n",
    "    \"Bob\": 95,\n",
    "    \"Charlie\": 72,\n",
    "    \"Diana\": 98,\n",
    "    \"Ethan\": 65,\n",
    "    \"Fiona\": 95\n",
    "}\n",
    "\n",
    "if not student_marks:\n",
    "    print(\"The dictionary is empty.\")\n",
    "else:\n",
    "    student_list = list(student_marks.keys())\n",
    "    \n",
    "    highest_marks = student_marks[student_list[0]]\n",
    "    student_with_highest = student_list[0]\n",
    "    \n",
    "    lowest_marks = student_marks[student_list[0]]\n",
    "    student_with_lowest = student_list[0]\n",
    "\n",
    "    for student, marks in student_marks.items():\n",
    "        if marks > highest_marks:\n",
    "            highest_marks = marks\n",
    "            student_with_highest = student\n",
    "        \n",
    "        if marks < lowest_marks:\n",
    "            lowest_marks = marks\n",
    "            student_with_lowest = student\n",
    "\n",
    "    print(\"--- Student Marks Report ---\")\n",
    "    print(f\"Student with the highest marks: {student_with_highest} ({highest_marks})\")\n",
    "    print(f\"Student with the lowest marks: {student_with_lowest} ({lowest_marks})\")"
   ]
  }
 ],
 "metadata": {
  "kernelspec": {
   "display_name": "Python 3",
   "language": "python",
   "name": "python3"
  },
  "language_info": {
   "codemirror_mode": {
    "name": "ipython",
    "version": 3
   },
   "file_extension": ".py",
   "mimetype": "text/x-python",
   "name": "python",
   "nbconvert_exporter": "python",
   "pygments_lexer": "ipython3",
   "version": "3.13.7"
  }
 },
 "nbformat": 4,
 "nbformat_minor": 5
}
