{
 "cells": [
  {
   "cell_type": "markdown",
   "id": "fa3a168e",
   "metadata": {},
   "source": [
    "Q1) Write a Python program to get a list, sorted in increasing order by the last element in each tuple from a given list of non-empty tuples. \n",
    "Sample List: [(2, 5), (1, 2), (4, 4), (2, 3), (2, 1)]"
   ]
  },
  {
   "cell_type": "code",
   "execution_count": 1,
   "id": "069448d6",
   "metadata": {},
   "outputs": [
    {
     "name": "stdout",
     "output_type": "stream",
     "text": [
      "Sorted List: [(2, 1), (1, 2), (2, 3), (4, 4), (2, 5)]\n"
     ]
    }
   ],
   "source": [
    "def l_ele(t):\n",
    "    return t[-1]\n",
    "\n",
    "list=[(2, 5), (1, 2), (4, 4), (2, 3), (2, 1)]\n",
    "\n",
    "s=sorted(list,key=l_ele)\n",
    "\n",
    "print(\"Sorted List:\",s)\n"
   ]
  },
  {
   "cell_type": "markdown",
   "id": "866fcbce",
   "metadata": {},
   "source": [
    "Q2) Write a Python program to get a string from a given string where all occurrences of its first char have been changed to '$', except the first char itself. Sample String : 'restart' "
   ]
  },
  {
   "cell_type": "code",
   "execution_count": 2,
   "id": "89493334",
   "metadata": {},
   "outputs": [
    {
     "name": "stdout",
     "output_type": "stream",
     "text": [
      "Entered string is: bumblebee\n",
      "Modified string: bum$le$ee\n"
     ]
    }
   ],
   "source": [
    "def c_str(s):\n",
    "    f_c = s[0]\n",
    "    modified=f_c+s[1:].replace(f_c, '$')\n",
    "    return modified\n",
    "\n",
    "str=input(\"Enter a string: \")\n",
    "print(f\"Entered string is: {str}\")\n",
    "\n",
    "print(\"Modified string:\", c_str(str))\n"
   ]
  },
  {
   "cell_type": "markdown",
   "id": "cddc7c1f",
   "metadata": {},
   "source": [
    "Q3) Write a Python program to find the first appearance of the substring 'not' and 'poor' from a given string, if 'bad' follows the 'poor', replace the whole 'not'...'poor' substring with 'good'. Return the resulting string. \n",
    "Sample String: 'The lyrics is not that poor!' "
   ]
  },
  {
   "cell_type": "code",
   "execution_count": 5,
   "id": "4a2df9fb",
   "metadata": {},
   "outputs": [
    {
     "name": "stdout",
     "output_type": "stream",
     "text": [
      "Enterred string: im not poor\n",
      "New string: im good\n"
     ]
    }
   ],
   "source": [
    "def np_good(s):\n",
    "    n_index=s.find(\"not\")\n",
    "    p_index=s.find(\"poor\")\n",
    "    \n",
    "    if n_index!=-1 and p_index!=-1 and p_index>n_index:\n",
    "        s=s[:n_index]+\"good\"+s[p_index+4:]\n",
    "    return s\n",
    "\n",
    "str=input(\"Enter a string: \")\n",
    "print(f\"Enterred string: {str}\")\n",
    "print(\"New string:\", np_good(str))\n"
   ]
  },
  {
   "cell_type": "markdown",
   "id": "9571ca81",
   "metadata": {},
   "source": [
    "Q4) Write a python program to sort a dictionary by value. "
   ]
  },
  {
   "cell_type": "code",
   "execution_count": 7,
   "id": "d020858f",
   "metadata": {},
   "outputs": [
    {
     "name": "stdout",
     "output_type": "stream",
     "text": [
      "dictionary: {'apple': 10, 'banana': 2, 'cherry': 7, 'date': 5}\n",
      "Sorted dictionary: {'banana': 2, 'date': 5, 'cherry': 7, 'apple': 10}\n"
     ]
    }
   ],
   "source": [
    "def sort(a):\n",
    "    return dict(sorted(a.items(),key=lambda item: item[1]))\n",
    "\n",
    "d={'apple':10,'banana':2,'cherry':7,'date':5}\n",
    "\n",
    "print(\"dictionary:\",d)\n",
    "print(\"Sorted dictionary:\",sort(d))\n"
   ]
  },
  {
   "cell_type": "markdown",
   "id": "d947ad50",
   "metadata": {},
   "source": [
    "\n",
    "Q5) Write a python program to add key to a dictionary. "
   ]
  },
  {
   "cell_type": "code",
   "execution_count": 10,
   "id": "e8d272e4",
   "metadata": {},
   "outputs": [
    {
     "name": "stdout",
     "output_type": "stream",
     "text": [
      "current dictionary: {0: 10, 1: 20}\n",
      "Updated: {0: 10, 1: 20, 2: 30}\n"
     ]
    }
   ],
   "source": [
    "\n",
    "dic={0:10,1:20}\n",
    "print(f\"current dictionary: {dic}\")\n",
    "key=int(input(\"Enter key: \"))\n",
    "value =int(input(\"Enter value: \"))\n",
    "dic[key] = value\n",
    "\n",
    "print(\"Updated:\",dic)\n"
   ]
  }
 ],
 "metadata": {
  "kernelspec": {
   "display_name": "Python 3",
   "language": "python",
   "name": "python3"
  },
  "language_info": {
   "codemirror_mode": {
    "name": "ipython",
    "version": 3
   },
   "file_extension": ".py",
   "mimetype": "text/x-python",
   "name": "python",
   "nbconvert_exporter": "python",
   "pygments_lexer": "ipython3",
   "version": "3.13.7"
  }
 },
 "nbformat": 4,
 "nbformat_minor": 5
}
